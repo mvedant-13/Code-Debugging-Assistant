from openai import OpenAI
import subprocess
import tempfile
import sys
import os

# Correct OpenRouter setup
client = OpenAI(
    api_key="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",  # your OpenRouter key
    base_url="https://openrouter.ai/api/v1"
)

def test_openai_connection():
    try:
        response = client.chat.completions.create(
            model="gpt-oss-20b",  # full OpenRouter model name
            messages=[{"role": "user", "content": "Say 'Hello, debugging assistant ready!'"}],
            max_tokens=50
        )
        print("🤖 AI Response:", response.choices[0].message.content)
        print("✅ Connection successful!")
        return True
    except Exception as e:
        print(f"❌ Connection failed: {e}")
        return False

test_openai_connection()


# ============================================================================
# QUICK DEBUGGING FUNCTION FOR FREE MODEL
# ============================================================================
def quick_debug_file(file_path):
    """Run and debug a Python script from a file."""
    print(f"🔍 Quick AI Debug for file: {file_path}")
    print("=" * 40)

    try:
        with open(file_path, "r") as f:
            code_string = f.read()

        # Run the file directly
        result = subprocess.run([sys.executable, file_path], capture_output=True, text=True, timeout=30)

        if result.returncode == 0:
            print("✅ Code works!")
            if result.stdout:
                print("Output:", result.stdout)
        else:
            print("❌ Error found!")
            print("Error:", result.stderr)

            # AI-powered fix
            try:
                prompt = f"""Fix this Python code:

CODE:
{code_string}

ERROR:
{result.stderr}

Provide:
1) What's wrong
2) Fixed code
"""
                response = client.chat.completions.create(
                    model="gpt-oss-20b",  # fixed model name
                    messages=[{"role": "user", "content": prompt}],
                    max_tokens=400,
                    temperature=0.2
                )
                print("\n🤖 AI Fix:")
                print(response.choices[0].message.content)
            except Exception as e:
                print(f"AI analysis failed: {e}")

    except Exception as e:
        print(f"Execution failed: {e}")

    print("=" * 40)
